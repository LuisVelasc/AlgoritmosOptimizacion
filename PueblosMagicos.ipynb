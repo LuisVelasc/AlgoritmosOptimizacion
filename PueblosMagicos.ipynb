{
 "cells": [
  {
   "cell_type": "markdown",
   "id": "3745a19d",
   "metadata": {},
   "source": [
    "# La ruta más corta para visitar los pueblos mágicos de México"
   ]
  },
  {
   "cell_type": "markdown",
   "id": "566baf48",
   "metadata": {},
   "source": [
    "## Introducción al problema"
   ]
  },
  {
   "cell_type": "markdown",
   "id": "e2687dfd",
   "metadata": {},
   "source": [
    "Unos de los problemas más antiguos y sencillos relacionados con la optimización es el Problema del Vendedor Ambulante, el cual implica encontrar la ruta más corta que nos permita visitar un número n de ciudades, volviendo al finalizar el recorrido al punto de partida inicial. Evidentemente, a medida que crece el valor de n, se incrementa el número de posibles soluciones y, por lo tanto, también lo hace la complejidad del problema. En la figura se muestra un esquema del problema para n=3 y n=15. Para tres ciudades, la distancia es la misma sin importar el orden, con lo cual cualquier ruta brinda la mejor solución posible, sin embargo, al incrementar el número de ciudades a 15, deja de ser claro cómo el orden en que son visitadas afecta la calidad de nuestra solución. "
   ]
  },
  {
   "cell_type": "markdown",
   "id": "77a85202",
   "metadata": {},
   "source": [
    "<img src= \"https://raw.githubusercontent.com/LuisVelasc/Imagenes/main/RutaMasCortaPueblosMagicos1.PNG\" alt=\"drawing\" width=\"350\">"
   ]
  },
  {
   "cell_type": "markdown",
   "id": "a08e1172",
   "metadata": {},
   "source": [
    "Buscando crear un ejemplo que el lector pueda identificar en la realidad, se decidió optimizar en este capítulo la ruta que nos permita visitar los 132 Pueblos Mágicos de México que a la fecha de febrero del 2021 se encuentran inscritos en el programa dirigido por la Secretaria de Turismo[1]. El programa de los pueblos mágicos está orientado a alentar a los turistas, tanto nacionales como extranjeros, a visitar los pueblos que presentan el mayor legado cultural en nuestro país, y ha obtenido tan buen recibimiento que incluso países como España[2] han implementado programas similares en sus territorios. \n",
    "\n",
    "En este caso, el problema se resolverá por medio del algoritmo conocido como Ant Colony Optimization. Esta metaheurística fue presentada por Doringo et al[3] en el año de 1991. La genialidad de este algoritmo se encuentra en la idea de simular el comportamiento de una colonia de hormigas empleando un conjunto de objetos computacionales simples, capaces de comunicarse entre sí por medio de “feromonas”. \n",
    "\n",
    "Para comprender el funcionamiento de este algoritmo, es necesario describir el proceso natural al cual es análogo. En la naturaleza, las hormigas no son capaces de realizar tareas complicadas cuando se encuentran solas, sin embargo, es sabido que al juntar un número elevado de éstas se comienza a conformar una “inteligencia” colectiva que les permite resolver problemas complejos como el localizar alimento o el identificar la ruta más corta a su hormiguero. Buena parte de esta inteligencia colectiva se encuentra sostenida por la comunicación entre los individuos de la colonia, misma que se desarrolla a través de sustancias químicas llamadas feromonas. En el algoritmo de Ant Colony se utiliza elementos como la visivilidad y la cantidad de feromonas dejadas por otras hormigas para generar una ruta optimizada. Esto se muestra de manera esquematica en la siguiente figura. "
   ]
  },
  {
   "cell_type": "markdown",
   "id": "1a5d6a60",
   "metadata": {},
   "source": [
    "<img src= \"https://raw.githubusercontent.com/LuisVelasc/Imagenes/main/RutaMasCortaPueblosMagicos2.PNG\" alt=\"drawing\" width=\"300\">"
   ]
  },
  {
   "cell_type": "markdown",
   "id": "e4d10276",
   "metadata": {},
   "source": [
    "En la figura se observa a una hormiga que tiene que escoger a cuál pueblo dirigirse (A, B o C). Debido a su lejanía, solo una hormiga ha decidido moverse en dirección a B. Por otra parte, A se encuentra más cerca, pero muchas hormigas se están moviendo hacia C, con lo cual, estos dos pueblos tienen altas probabilidades de ser escogidos como destino de la hormiga en O."
   ]
  },
  {
   "cell_type": "markdown",
   "id": "730cb3ea",
   "metadata": {},
   "source": [
    "## Pueblos Mágicos de México"
   ]
  },
  {
   "cell_type": "markdown",
   "id": "9e7f6695",
   "metadata": {},
   "source": [
    "En la siguiente figura se muestra la ubicación de los 132 Pueblos Mágicos que actualmente se encuentran inscritos en el programa, para facilitar el cálculo de las distancias que los separan, sus posiciones dentro del territorio nacional se encuentran referenciadas en coordenadas geográficas. Obsérvese que en la península de Baja California se encuentran ubicados tres Pueblos Mágicos. "
   ]
  },
  {
   "cell_type": "markdown",
   "id": "f788e195",
   "metadata": {},
   "source": [
    "<img src= \"https://raw.githubusercontent.com/LuisVelasc/Imagenes/main/RutaMasCortaPueblosMagicos3.PNG\" alt=\"drawing\" width=\"350\">"
   ]
  },
  {
   "cell_type": "markdown",
   "id": "d631394e",
   "metadata": {},
   "source": [
    "## Variables del código"
   ]
  },
  {
   "cell_type": "markdown",
   "id": "ff3e4bef",
   "metadata": {},
   "source": [
    "A continuación se definen los factores que definen el desempeño del algoritmo."
   ]
  },
  {
   "cell_type": "code",
   "execution_count": 1,
   "id": "2b899e40",
   "metadata": {},
   "outputs": [
    {
     "name": "stdout",
     "output_type": "stream",
     "text": [
      "\n"
     ]
    }
   ],
   "source": [
    "alfa=2.0; % Coef. intensidad\n",
    "beta=2.5; % Coef. distancia\n",
    "ro=0.95; % Coef. evaporación\n",
    "Q=10^5; % Feromonas\n",
    "a=4; % Hormigas por pueblo\n",
    "tao=0.1; % Intensidad inicial\n",
    "CiclosTotales=25; % Iteraciones a realizar\n",
    "R=6367.5; % Radio estimado de la Tierra\n",
    "cRestr=1; % 1=Sí, 0=No"
   ]
  },
  {
   "cell_type": "markdown",
   "id": "3b1c3865",
   "metadata": {},
   "source": [
    "Se carga el archivo con las coordenadas geográficas de los Pueblos Mágicos de México. Por simplicidad, se omiten los tres pueblos ubicados en la península de Baja California."
   ]
  },
  {
   "cell_type": "code",
   "execution_count": 2,
   "id": "d0d767ec",
   "metadata": {},
   "outputs": [
    {
     "name": "stdout",
     "output_type": "stream",
     "text": [
      "\n"
     ]
    }
   ],
   "source": [
    "X=load('C:\\Users\\fable\\OneDrive\\Desktop\\Académico\\LibroMH\\2_ACO\\Codigos\\PueblosMagicos.txt');\n",
    "X=transpose(X);"
   ]
  },
  {
   "cell_type": "markdown",
   "id": "2dad1731",
   "metadata": {},
   "source": [
    "Se definen dos listas para evitar que el algoritmo rutas que consideren \"cruzar por el mar\" entre los pueblos de Yucatán y el resto."
   ]
  },
  {
   "cell_type": "code",
   "execution_count": 3,
   "id": "56d328d2",
   "metadata": {},
   "outputs": [
    {
     "name": "stdout",
     "output_type": "stream",
     "text": [
      "\n"
     ]
    }
   ],
   "source": [
    "CRest=[8,43,45,55,96,116,118,17,22,42,72,73,83,101];\n",
    "CY=[8,43,45,55,96,116,118];"
   ]
  },
  {
   "cell_type": "markdown",
   "id": "5ad60e14",
   "metadata": {},
   "source": [
    "Se definen matrices y algunas variables que almacenarán los resultados intermedios del algoritmo. "
   ]
  },
  {
   "cell_type": "code",
   "execution_count": 4,
   "id": "a11b75a0",
   "metadata": {},
   "outputs": [
    {
     "name": "stdout",
     "output_type": "stream",
     "text": [
      "\n"
     ]
    }
   ],
   "source": [
    "n=size(X,2); % N de pueblos\n",
    "m=a*n; % N de hormigas totales\n",
    "\n",
    "% Matrices de ceros\n",
    "D=zeros(n,n); % De distancia\n",
    "Nu=zeros(n,n); % De visibilidad\n",
    "P=zeros(n,n); % De probabilidad\n",
    "L=zeros(m,n); % De longitudes\n",
    "MResultados=zeros(m,n); % De resultados\n",
    "\n",
    "% Se define las matrices de intensidad\n",
    "T=tao*ones(n,n);\n",
    "DT=zeros(n,n);\n",
    "\n",
    "% Mejores resultados\n",
    "MejorL=10^9;\n",
    "MejorRuta=zeros(1,n);"
   ]
  },
  {
   "cell_type": "markdown",
   "id": "3b8288a3",
   "metadata": {},
   "source": [
    "Se define la matriz donde se almacenan las distancias entre los pueblos considerados."
   ]
  },
  {
   "cell_type": "code",
   "execution_count": 5,
   "id": "69555436",
   "metadata": {},
   "outputs": [
    {
     "name": "stdout",
     "output_type": "stream",
     "text": [
      "\n"
     ]
    }
   ],
   "source": [
    "for i=1 : n\n",
    "    for j=1 : n\n",
    "        D(i,j)=2*R*asin(((sind((X(1,j)-X(1,i))/2))^2+cosd(X(1,i))*cosd(X(1,j))*(sind((X(2,j)-X(2,i))/2))^2)^(1/2));\n",
    "        \n",
    "        if cRestr==1\n",
    "            % Se entra a Yucatán\n",
    "            if size(find(j==CY),2)~=0\n",
    "                if size(find(i==CRest),2)==0\n",
    "                    D(i,j)=1000*D(i,j);\n",
    "                end\n",
    "            end\n",
    "            \n",
    "            % Se sale de Yucatán\n",
    "            if size(find(i==CY),2)~=0\n",
    "                if size(find(j==CRest),2)==0\n",
    "                    D(i,j)=1000*D(i,j);\n",
    "                end\n",
    "            end\n",
    "            \n",
    "        end\n",
    "        \n",
    "    end\n",
    "end"
   ]
  },
  {
   "cell_type": "markdown",
   "id": "94489969",
   "metadata": {},
   "source": [
    "Se define la matriz de visibilidad entre pueblos, solo es el recíproco de la distancia."
   ]
  },
  {
   "cell_type": "code",
   "execution_count": 6,
   "id": "4d008453",
   "metadata": {},
   "outputs": [
    {
     "name": "stdout",
     "output_type": "stream",
     "text": [
      "\n"
     ]
    }
   ],
   "source": [
    "for i=1 : n\n",
    "    for j=1 : n\n",
    "        if i==j\n",
    "            Nu(i,j)=0;\n",
    "        else\n",
    "            Nu(i,j)=1/D(i,j);\n",
    "        end\n",
    "    end\n",
    "end"
   ]
  },
  {
   "cell_type": "markdown",
   "id": "73677736",
   "metadata": {},
   "source": [
    "Se definen la matriz de probabilidad de transición entre un pueblo y otro. Las \"hormigas\" usarán estas probabilidades para ir generando su ruta, un pueblo a la vez. "
   ]
  },
  {
   "cell_type": "code",
   "execution_count": 7,
   "id": "5ef49dcf",
   "metadata": {},
   "outputs": [
    {
     "name": "stdout",
     "output_type": "stream",
     "text": [
      "\n"
     ]
    }
   ],
   "source": [
    "for i=1 : n\n",
    "    for j=1 : n\n",
    "        P(i,j)=(T(i,j)^alfa)*(Nu(i,j)^beta)/(dot(T(i,:).^alfa,Nu(i,:).^beta));\n",
    "    end\n",
    "end"
   ]
  },
  {
   "cell_type": "markdown",
   "id": "57972ce5",
   "metadata": {},
   "source": [
    "Para evitar que las hormigas visiten un pueblo más de una vez, se crea una matriz que restringe los movimiento de las hormigas en función de los pueblos que han visitado."
   ]
  },
  {
   "cell_type": "code",
   "execution_count": 8,
   "id": "087756fa",
   "metadata": {},
   "outputs": [
    {
     "name": "stdout",
     "output_type": "stream",
     "text": [
      "\n"
     ]
    }
   ],
   "source": [
    "b=diag(ones(1,n));\n",
    "Tabu = b;\n",
    "for i=1 : a-1\n",
    "    Tabu=[Tabu;b];\n",
    "end"
   ]
  },
  {
   "cell_type": "markdown",
   "id": "7b188b30",
   "metadata": {},
   "source": [
    "## Aplicación de Ant Colony Optimization"
   ]
  },
  {
   "cell_type": "markdown",
   "id": "1f2a5bd9",
   "metadata": {},
   "source": [
    "Se aplica el algoritmo, actualización de feromonas por ciclo."
   ]
  },
  {
   "cell_type": "code",
   "execution_count": 9,
   "id": "75500e93",
   "metadata": {},
   "outputs": [
    {
     "name": "stdout",
     "output_type": "stream",
     "text": [
      "\n",
      "ans =\n",
      "\n",
      "   2.0342e+04\n",
      "\n",
      "\n",
      "ans =\n",
      "\n",
      "   1.2667e+04\n",
      "\n",
      "\n",
      "ans =\n",
      "\n",
      "   1.2630e+04\n",
      "\n",
      "\n",
      "ans =\n",
      "\n",
      "   1.2655e+04\n",
      "\n",
      "\n",
      "ans =\n",
      "\n",
      "   1.2533e+04\n",
      "\n",
      "\n",
      "ans =\n",
      "\n",
      "   1.2524e+04\n",
      "\n",
      "\n",
      "ans =\n",
      "\n",
      "   1.2486e+04\n",
      "\n",
      "\n",
      "ans =\n",
      "\n",
      "   1.2619e+04\n",
      "\n",
      "\n",
      "ans =\n",
      "\n",
      "   1.2503e+04\n",
      "\n",
      "\n",
      "ans =\n",
      "\n",
      "   1.2311e+04\n",
      "\n",
      "\n",
      "ans =\n",
      "\n",
      "   1.2554e+04\n",
      "\n",
      "\n",
      "ans =\n",
      "\n",
      "   1.2458e+04\n",
      "\n",
      "\n",
      "ans =\n",
      "\n",
      "   1.2331e+04\n",
      "\n",
      "\n",
      "ans =\n",
      "\n",
      "   1.2503e+04\n",
      "\n",
      "\n",
      "ans =\n",
      "\n",
      "   1.2660e+04\n",
      "\n",
      "\n",
      "ans =\n",
      "\n",
      "   1.2389e+04\n",
      "\n",
      "\n",
      "ans =\n",
      "\n",
      "   1.2637e+04\n",
      "\n",
      "\n",
      "ans =\n",
      "\n",
      "   1.2483e+04\n",
      "\n",
      "\n",
      "ans =\n",
      "\n",
      "   1.2534e+04\n",
      "\n",
      "\n",
      "ans =\n",
      "\n",
      "   1.2562e+04\n",
      "\n",
      "\n",
      "ans =\n",
      "\n",
      "   1.2492e+04\n",
      "\n",
      "\n",
      "ans =\n",
      "\n",
      "   1.2503e+04\n",
      "\n",
      "\n",
      "ans =\n",
      "\n",
      "   1.2503e+04\n",
      "\n",
      "\n",
      "ans =\n",
      "\n",
      "   1.2519e+04\n",
      "\n",
      "\n",
      "ans =\n",
      "\n",
      "   1.2458e+04\n",
      "\n",
      "\n"
     ]
    }
   ],
   "source": [
    "for Ciclo=1 : CiclosTotales\n",
    "    for i=1 : m\n",
    "        Cont=1; % Contador para almacenar resultados\n",
    "        d=find(1==Tabu(i,:),1); % Localiza pueblo inicial i de la hormiga\n",
    "        MResultados(i,Cont)=d; % Se inicia ruta\n",
    "        \n",
    "        for j=1 : n\n",
    "            % Se obtiene lista de posibles movimientos\n",
    "            if j==n\n",
    "            U=Tabu(i,:);\n",
    "            U(1,MResultados(i,1))=0;\n",
    "            else\n",
    "                U=Tabu(i,:);\n",
    "            end\n",
    "            \n",
    "            % Se cambian valores (1=0) y (0=1)\n",
    "            U(U==0)=2;\n",
    "            U(U==1)=0;\n",
    "            U(U==2)=1;\n",
    "            \n",
    "            % Se descartan las probabilidades de los no movimientos permitidos\n",
    "            V=U.*(P(d,:));\n",
    "            \n",
    "            % Se crean los intervalos de probabilidad que definen qué movimiento\n",
    "            % realizar\n",
    "            for k=1 : n\n",
    "                W(1,k)=sum(V(1,[1:k]));\n",
    "            end\n",
    "            \n",
    "            % Se normaliza la probabilidad hasta 1\n",
    "            W=W./W(1,n);\n",
    "            \n",
    "            % c es el pueblo de salida\n",
    "            c=d;\n",
    "            \n",
    "            % d es el pueblo destino\n",
    "            d=find(rand<W,1);\n",
    "            \n",
    "            % Se obliga a obtener un valor de d\n",
    "            if size(d,2)==0\n",
    "                while size(d,2)==0\n",
    "                    d=find(rand<W,1);\n",
    "                end\n",
    "            end\n",
    "            \n",
    "            % Se actualiza la matriz de movimientos permitidos\n",
    "            Tabu(i,d)=1;\n",
    "            \n",
    "            % Se actualiza matriz de distancia y resultados\n",
    "            Cont=Cont+1;\n",
    "            L(i,Cont)=D(c,d);\n",
    "            MResultados(i,Cont)=d;\n",
    "        end\n",
    "        \n",
    "        % Se determina distancia total recorrida por la hormiga\n",
    "        L(i,1)=sum(L(i,[2:n+1]));\n",
    "                \n",
    "    end % Se ha completado una iteración\n",
    "    \n",
    "    % Se guardar los mejores resultados de la iteración\n",
    "    if min(L(:,1))<MejorL\n",
    "        MejorL= min(L(:,1));\n",
    "        MejorRuta=MResultados(find(L(:,1)==MejorL),:);\n",
    "        figure(1)\n",
    "        comet(X(2,MejorRuta(1,:)),X(1,MejorRuta(1,:)),0.05)\n",
    "    end\n",
    "    \n",
    "    min(L(:,1))\n",
    "    % Se actualizan las feromonas generadas en esta iteración\n",
    "    for i=1 : m\n",
    "        for j=1 : n-1\n",
    "            pinicial=MResultados(i,j);\n",
    "            pfinal=MResultados(i,j+1);\n",
    "            \n",
    "            DT(pinicial,pfinal)=DT(pinicial,pfinal)+Q/L(i,1);\n",
    "            T(pinicial,pfinal)=ro*T(pinicial,pfinal)+DT(pinicial,pfinal);\n",
    "        end\n",
    "    end\n",
    "    \n",
    "    % Se actualiza la matriz de probabilidad\n",
    "    for i=1 : n\n",
    "        for j=1 : n\n",
    "            P(i,j)=(T(i,j)^alfa)*(Nu(i,j)^beta)/(dot(T(i,:).^alfa,Nu(i,:).^beta));\n",
    "        end\n",
    "    end\n",
    "\n",
    "    % Se limpia la matriz de ciudades\n",
    "    b=diag(ones(1,n));\n",
    "    Tabu = b;\n",
    "    for i=1 : a-1\n",
    "        Tabu=[Tabu;b];\n",
    "    end\n",
    "end"
   ]
  },
  {
   "cell_type": "markdown",
   "id": "3f8f89bb",
   "metadata": {},
   "source": [
    "## Resultados"
   ]
  },
  {
   "cell_type": "markdown",
   "id": "feb4b8ad",
   "metadata": {},
   "source": [
    "Se imprime la distancia de la ruta de mayor calidad generada."
   ]
  },
  {
   "cell_type": "code",
   "execution_count": 10,
   "id": "f185c870",
   "metadata": {},
   "outputs": [
    {
     "name": "stdout",
     "output_type": "stream",
     "text": [
      "\n",
      "ans =\n",
      "\n",
      "   1.2311e+04\n",
      "\n",
      "\n"
     ]
    }
   ],
   "source": [
    "% Comprobación de la mejor respuesta\n",
    "for i=1 : n\n",
    "    MejorD(1,i)=D(MejorRuta(1,i),MejorRuta(1,i+1));\n",
    "end\n",
    "sum(MejorD(1,:))"
   ]
  },
  {
   "cell_type": "markdown",
   "id": "031bf127",
   "metadata": {},
   "source": [
    "Se cargan los nombres de los pueblos para generar una lista con los pueblos ordenados de la ruta de mayor calidad generada."
   ]
  },
  {
   "cell_type": "code",
   "execution_count": 11,
   "id": "635c7d23",
   "metadata": {},
   "outputs": [
    {
     "name": "stdout",
     "output_type": "stream",
     "text": [
      "\n"
     ]
    }
   ],
   "source": [
    "% Regresar resultado final\n",
    "Y=importdata('C:\\Users\\fable\\OneDrive\\Desktop\\Académico\\LibroMH\\2_ACO\\Codigos\\ListaPueblos.txt');\n",
    "for i=1 : n\n",
    "    CiudadesOrdenadas(1,i)=Y(MejorRuta(1,i),1);\n",
    "end\n",
    "CiudadesOrdenadas=transpose(CiudadesOrdenadas);"
   ]
  },
  {
   "cell_type": "markdown",
   "id": "38c738f0",
   "metadata": {},
   "source": [
    "Se imprime la lista con las ciudades de la mejor ruta."
   ]
  },
  {
   "cell_type": "code",
   "execution_count": 12,
   "id": "84137802",
   "metadata": {},
   "outputs": [
    {
     "name": "stdout",
     "output_type": "stream",
     "text": [
      "\n",
      "CiudadesOrdenadas =\n",
      "\n",
      "  129x1 cell array\n",
      "\n",
      "    {'21. Comala, Colima'                                                   }\n",
      "    {'101. Tapalpa, Jalisco'                                                }\n",
      "    {'2. Ajijic, Jalisco'                                                   }\n",
      "    {'89. San Pedro Tlaquepaque, Jalisco'                                   }\n",
      "    {'108. Tequila, Jalisco'                                                }\n",
      "    {'46. Jala, Nayarit'                                                    }\n",
      "    {'24. Compostela de Indias, Nayarit'                                    }\n",
      "    {'96. Sayulita, Nayarit'                                                }\n",
      "    {'91. San Sebastián del Oeste, Jalisco'                                 }\n",
      "    {'58. Mascota, Jalisco'                                                 }\n",
      "    {'100. Talpa de Allende, Jalisco'                                       }\n",
      "    {'63. Mexcaltitán, Nayarit'                                             }\n",
      "    {'33. El Rosario, Sinaloa'                                              }\n",
      "    {'25. Cosalá, Sinaloa'                                                  }\n",
      "    {'68. Mocorito, Sinaloa'                                                }\n",
      "    {'34. El Fuerte, Sinaloa'                                               }\n",
      "    {'3. Álamos, Sonora'                                                    }\n",
      "    {'9. Batopilas, Chihuahua'                                              }\n",
      "    {'27. Creel, Chihuahua'                                                 }\n",
      "    {'16. Casas Grandes, Chihuahua'                                         }\n",
      "    {'54. Magdalena de Kino, Sonora'                                        }\n",
      "    {'36. Guerrero, Coahuila'                                               }\n",
      "    {'61. Melchor Múzquiz, Coahuila'                                        }\n",
      "    {'28. Cuatro Ciénegas, Coahuila'                                        }\n",
      "    {'14. Candela, Coahuila'                                                }\n",
      "    {'11. Bustamante, Nuevo León'                                           }\n",
      "    {'64. Mier, Tamaulipas'                                                 }\n",
      "    {'52. Linares, Nuevo León'                                              }\n",
      "    {'95. Santiago, Nuevo León'                                             }\n",
      "    {'6. Arteaga, Coahuila'                                                 }\n",
      "    {'77. Parras de la Fuente, Coahuila'                                    }\n",
      "    {'123. Viesca, Coahuila'                                                }\n",
      "    {'57. Mapimí, Durango'                                                  }\n",
      "    {'69. Nombre de Dios, Durango'                                          }\n",
      "    {'98. Sombrerete, Zacatecas'                                            }\n",
      "    {'49. Jerez de García Salinas, Zacatecas'                               }\n",
      "    {'35. Guadalupe, Zacatecas'                                             }\n",
      "    {'80. Real de Asientos, Aguascalientes'                                 }\n",
      "    {'86. San José de Gracia, Aguascalientes'                               }\n",
      "    {'13. Calvillo, Aguascalientes'                                         }\n",
      "    {'70. Nochistlán de Mejía, Zacatecas'                                   }\n",
      "    {'111. Teúl de González Ortega, Zacatecas'                              }\n",
      "    {'51. Lagos de Moreno, Jalisco'                                         }\n",
      "    {'47. Jalpa de Cánovas, Guanajuato'                                     }\n",
      "    {'31. Dolores Hidalgo, Guanajuato'                                      }\n",
      "    {'66. Mineral de Pozos, Guanajuato'                                     }\n",
      "    {'94. Santa María del Río, San Luis Potosí'                             }\n",
      "    {'79. Pinos, Zacatecas'                                                 }\n",
      "    {'81. Real de Catorce, San Luis Potosí'                                 }\n",
      "    {'118. Tula, Tamaulipas'                                                }\n",
      "    {'5. Aquismón, San Luis Potosí'                                         }\n",
      "    {'127. Xilitla, San Luis Potosí'                                        }\n",
      "    {'48. Jalpan de Serra, Querétaro'                                       }\n",
      "    {'85. San Joaquín, Querétaro'                                           }\n",
      "    {'131. Zimapán, Hidalgo'                                                }\n",
      "    {'105. Tecozautla, Hidalgo'                                             }\n",
      "    {'12. Cadereyta de Montes, Querétaro'                                   }\n",
      "    {'10. Bernal, Querétaro'                                                }\n",
      "    {'109. Tequisquiapan, Querétaro'                                        }\n",
      "    {'41. Huichapan, Hidalgo'                                               }\n",
      "    {'1. Aculco, Estado de México'                                          }\n",
      "    {'4. Amealco de Bonfil, Querétaro'                                      }\n",
      "    {'114. Tlalpujahua de Rayón, Michoacán'                                 }\n",
      "    {'32. El Oro, Estado de México'                                         }\n",
      "    {'65. Mineral de Angangueo, Michoacán'                                  }\n",
      "    {'122. Valle de Bravo, Estado de México'                                }\n",
      "    {'62. Metepec, Estado de México'                                        }\n",
      "    {'55. Malinalco, Estado de México'                                      }\n",
      "    {'44. Ixtapan de la Sal, Estado de México'                              }\n",
      "    {'117. Tonatico, Estado de México'                                      }\n",
      "    {'103. Taxco de Alarcón, Guerrero'                                      }\n",
      "    {'107. Tepoztlán, Morelos'                                              }\n",
      "    {'113. Tlayacapan, Morelos'                                             }\n",
      "    {'7. Atlixco, Puebla'                                                   }\n",
      "    {'19. Cholula, Puebla'                                                  }\n",
      "    {'37. Huamantla, Tlaxcala'                                              }\n",
      "    {'115. Tlaxco, Tlaxcala'                                                }\n",
      "    {'18. Chignahuapan, Puebla'                                             }\n",
      "    {'129. Zacatlán de las Manzanas, Puebla'                                }\n",
      "    {'110. Tetela de Ocampo, Puebla'                                        }\n",
      "    {'112. Tlatlauquitepec, Puebla'                                         }\n",
      "    {'29. Cuetzalan del Progreso, Puebla'                                   }\n",
      "    {'132. Zozocolco de Hidalgo, Veracruz'                                  }\n",
      "    {'75. Papantla, Veracruz'                                               }\n",
      "    {'126. Xicotepec, Puebla'                                               }\n",
      "    {'39. Huauchinango, Puebla'                                             }\n",
      "    {'72. Pahuatlán, Puebla'                                                }\n",
      "    {'38. Huasca de Ocampo, Hidalgo'                                        }\n",
      "    {'82. Real de Monte, Hidalgo'                                           }\n",
      "    {'67. Mineral del Chico, Hidalgo'                                       }\n",
      "    {'130. Zempoala, Hidalgo'                                               }\n",
      "    {'87. San Juan Teotihuacán y San Martín de las Pirámides, Edo de México'}\n",
      "    {'106. Tepotzotlán, Estado de México'                                   }\n",
      "    {'124. Villa del Carbón, Estado de México'                              }\n",
      "    {'125. Xico, Veracruz'                                                  }\n",
      "    {'20. Coatepec, Veracruz'                                               }\n",
      "    {'26. Coscomatepec, Veracruz'                                           }\n",
      "    {'71. Orizaba, Veracruz'                                                }\n",
      "    {'40. Huautla de Jiménez, Oaxaca'                                       }\n",
      "    {'90. San Pedro y San Pablo Teposcolula, Oaxaca'                        }\n",
      "    {'15. Capulálpam de Méndez, Oaxaca'                                     }\n",
      "    {'88. San Pablo Villa de Mitla, Oaxaca'                                 }\n",
      "    {'92. Santa Catarina Juquila, Oaxaca'                                   }\n",
      "    {'60. Mazunte, Oaxaca'                                                  }\n",
      "    {'102. Tapijulapa, Tabasco'                                             }\n",
      "    {'73. Palenque, Chiapas'                                                }\n",
      "    {'74. Palizada, Campeche'                                               }\n",
      "    {'42. Isla Aguada, Campeche'                                            }\n",
      "    {'56. Maní, Yucatán'                                                    }\n",
      "    {'97. Sisal, Yucatán'                                                   }\n",
      "    {'45. Izamal, Yucatán'                                                  }\n",
      "    {'121. Valladolid, Yucatán'                                             }\n",
      "    {'119. Tulum, Quintana Roo'                                             }\n",
      "    {'43. Isla Mujeres, Quintana Roo'                                       }\n",
      "    {'8. Bacalar, Quintana Roo'                                             }\n",
      "    {'22. Comitán, Chiapas'                                                 }\n",
      "    {'84. San Cristóbal de las Casas, Chiapas'                              }\n",
      "    {'17. Chiapa de Corzo, Chiapas'                                         }\n",
      "    {'23. Comonfort, Guanajuato'                                            }\n",
      "    {'83. Salvatierra, Guanajuato'                                          }\n",
      "    {'128. Yuriria, Guanajuato'                                             }\n",
      "    {'30. Cuitzeo del Porvenir, Michoacán'                                  }\n",
      "    {'120. Tzintzuntzan, Michoacán'                                         }\n",
      "    {'78. Pátzcuaro, Michoacán'                                             }\n",
      "    {'93. Santa Clara del Cobre, Michoacán'                                 }\n",
      "    {'99. Tacámbaro, Michoacán'                                             }\n",
      "    {'76. Paracho de Verduzco, Michoacán'                                   }\n",
      "    {'50. Jiquilpan de Juárez, Michoacán'                                   }\n",
      "    {'59. Mazamitla, Jalisco'                                               }\n",
      "\n",
      "\n"
     ]
    }
   ],
   "source": [
    "CiudadesOrdenadas"
   ]
  },
  {
   "cell_type": "markdown",
   "id": "5a44d3cf",
   "metadata": {},
   "source": [
    "Se gráfica la mejor ruta encontrada."
   ]
  },
  {
   "cell_type": "code",
   "execution_count": 13,
   "id": "1f70e55f",
   "metadata": {},
   "outputs": [
    {
     "name": "stdout",
     "output_type": "stream",
     "text": [
      "\n",
      "ans =\n",
      "\n",
      "    'Helvetica'\n",
      "\n",
      "\n"
     ]
    },
    {
     "data": {
      "image/png": "[encoded data removed]",
      "text/plain": [
       "<IPython.core.display.Image object>"
      ]
     },
     "metadata": {},
     "output_type": "display_data"
    }
   ],
   "source": [
    "% Se grafica la mejor solución encontrada\n",
    "Y=load('C:\\Users\\fable\\OneDrive\\Desktop\\Académico\\LibroMH\\2_ACO\\Codigos\\Pais.txt');\n",
    "\n",
    "figure(1)\n",
    "plot(Y(:,2),Y(:,1),'color',[0.25 0.8 1])\n",
    "hold on\n",
    "comet(X(2,MejorRuta(1,:)),X(1,MejorRuta(1,:)),0.05)\n",
    "\n",
    "xlabel(\"Longitud, grados\",\"fontSize\",16)\n",
    "ylabel(\"Latitud, grados\",\"fontSize\",16)\n",
    "get(gca,'fontname')\n",
    "set(gca,'fontname','Cambria Math')\n",
    "hold off"
   ]
  },
  {
   "cell_type": "markdown",
   "id": "79522587",
   "metadata": {},
   "source": [
    "## Referencias"
   ]
  },
  {
   "cell_type": "markdown",
   "id": "ba8aa59f",
   "metadata": {},
   "source": [
    "[1] Secretaria de Turismo. Pueblos Mágicos de México. https://www.gob.mx/sectur/articulos/pueblos-magicos-206528 (2021).\n",
    "\n",
    "[2] Instituto de Desarrollo Local. Pueblos Mágicos de España. https://www.pueblosmagicos.es/ (2021).\n",
    "\n",
    "[3] Colorni, A., Dorigo, M. & Maniezzo, V. Distributed Optimization by ant colonies. in Proceedings of the First European Conference on Artificial Life (1991).\n"
   ]
  }
 ],
 "metadata": {
  "kernelspec": {
   "display_name": "Matlab",
   "language": "matlab",
   "name": "matlab"
  },
  "language_info": {
   "codemirror_mode": "octave",
   "file_extension": ".m",
   "help_links": [
    {
     "text": "MetaKernel Magics",
     "url": "https://metakernel.readthedocs.io/en/latest/source/README.html"
    }
   ],
   "mimetype": "text/x-octave",
   "name": "matlab",
   "version": "0.16.11"
  }
 },
 "nbformat": 4,
 "nbformat_minor": 5
}
