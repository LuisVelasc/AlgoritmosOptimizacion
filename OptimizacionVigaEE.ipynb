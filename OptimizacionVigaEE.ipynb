{
 "cells": [
  {
   "cell_type": "markdown",
   "id": "f143b016",
   "metadata": {},
   "source": [
    "# Optimización del diseño de una viga por Estrategias Evolutivas"
   ]
  },
  {
   "cell_type": "markdown",
   "id": "4ebd7f52",
   "metadata": {},
   "source": [
    "## Introducción al problema"
   ]
  },
  {
   "cell_type": "markdown",
   "id": "3ee9f541",
   "metadata": {},
   "source": [
    "Los elementos estructurales como vigas o columnas se deben de diseñar por medio de un proceso iterativo de prueba y error. Debido a que en este proceso se deben de revisar múltiples restricciones, en muchas ocasiones los proyectistas conservan la primera solución que cumple con todas las condiciones impuestas por la normativa correspondiente. Al emplear la primera solución factible, el costo de ésta dependerá en gran medida de la pericia y experiencia del proyectista que diseña el elemento estructural, resultando evidente que aquellas y aquellos con menor práctica presentarán diseños con los costos de construcción más elevados.\n",
    "\n",
    "El encontrar el diseño óptimo de una viga de concreto reforzado es un problema de optimización combinatoria que ha sido planteado anteriormente por Coello et al.[1]. De manera similar a lo realizado por él, aquí se afrontará el problema por medio de el algoritmo conocido como Estrategias Evolutivas, optimizándose el diseño de una viga biapoyada con una luz de 12 metros sometida a una carga viva uniformemente distribuida W. En la figura se muestra en esquema de la estructura considerada en este ejemplo. Como normativa de referencia se utilizan las Normas Técnicas Complementarias (NTC) del Reglamento de Construcción de la Ciudad de México[2]. \n"
   ]
  },
  {
   "cell_type": "markdown",
   "id": "ac193759",
   "metadata": {},
   "source": [
    "<img src= \"https://raw.githubusercontent.com/LuisVelasc/Imagenes/main/OptimizacionVigaEE1.PNG\" alt=\"drawing\" width=\"400\">"
   ]
  },
  {
   "cell_type": "markdown",
   "id": "b6854421",
   "metadata": {},
   "source": [
    "Las Estrategias Evolutivas fueron creadas por Rechenberg[3] en la década de los 60’s, en la Universidad Técnica de Berlín, y posteriormente desarrolladas por Schwefel[4] en la década de los 70´s. Al igual que Algoritmos Genéticos, esta metaheurística aplica los principios de la selección natural en la optimización de problemas, sin embargo, los operadores utilizados difieren ligeramente entre ambas metaheurísticas. "
   ]
  },
  {
   "cell_type": "markdown",
   "id": "bf5ea626",
   "metadata": {},
   "source": [
    "## Variables del código"
   ]
  },
  {
   "cell_type": "markdown",
   "id": "1ae03a1a",
   "metadata": {},
   "source": [
    "Se defienen los factores que controlan el desempeño del algoritmo, estos son: el tamaño de la población con la que trabajará Estategias Evolutivas, el número de generaciones que creará el algoritmo y la probabilidad de mutación de las nuevas soluciones creadas. "
   ]
  },
  {
   "cell_type": "code",
   "execution_count": 1,
   "id": "aea79d50",
   "metadata": {},
   "outputs": [
    {
     "name": "stdout",
     "output_type": "stream",
     "text": [
      "\n"
     ]
    }
   ],
   "source": [
    "Mu=10;         % Tamaño de la población\n",
    "GenMax=40000; % Número máximo de generaciones\n",
    "PM=0.50;      % Probabilidad mutacion hacia la vecindad"
   ]
  },
  {
   "cell_type": "markdown",
   "id": "3f1c0622",
   "metadata": {},
   "source": [
    "Intervalo de valores para el cual existen nuestras variables de decisión. Para facilitar su lectura, se muestra un esquema donde se indica la ubicación de cada variable en el elemento."
   ]
  },
  {
   "cell_type": "markdown",
   "id": "ce8fbdbe",
   "metadata": {},
   "source": [
    "<img src= \"https://raw.githubusercontent.com/LuisVelasc/Imagenes/main/OptimizacionVigaEE2.PNG\" alt=\"drawing\" width=\"500\">"
   ]
  },
  {
   "cell_type": "code",
   "execution_count": 2,
   "id": "7aa35378",
   "metadata": {},
   "outputs": [
    {
     "name": "stdout",
     "output_type": "stream",
     "text": [
      "\n"
     ]
    }
   ],
   "source": [
    "Vfc=(25:5:70);             % fc = Resistencia del concreto (Probar con f'c>40 unicamente)\n",
    "VH=(0.30:0.05:4.0);        % H = Peralte de la sección\n",
    "VB=(0.25:0.05:3.0);        % B = Ancho de la sección\n",
    "Vn=(2:1:30);               % nc,n1,n2 = N barras (compresión, tensión sup, tensión inf)\n",
    "Vfi=[2.5,3,4,5,6,8,10,12]; % fic,fi1,fi2 = Diámetro acero (compresión, tensión sup, tensión inf)\n",
    "VnE=[1,2];                 % nE = N de estribos\n",
    "VfiE=[2.5,3];              % fiE = Diámetro de los estribos\n",
    "VsE=(0.075:0.025:0.30);    % sE = Separación de los estribos (Apoyos y centro)"
   ]
  },
  {
   "cell_type": "markdown",
   "id": "4bcbc917",
   "metadata": {},
   "source": [
    "Parámetros del problema, son variables que se requieren para definir nuestro problema pero que se mantienen inalterados durante el proceso de optimización."
   ]
  },
  {
   "cell_type": "code",
   "execution_count": 3,
   "id": "4954f38f",
   "metadata": {},
   "outputs": [
    {
     "name": "stdout",
     "output_type": "stream",
     "text": [
      "\n"
     ]
    }
   ],
   "source": [
    "L=12;         % Longitud viga, m\n",
    "BApoyo=0.30;  % Ancho de los apoyos, m\n",
    "rec=0.04;     % Recubrimiento, m\n",
    "w=2.5;        % Carga distribuida servicio, kN/m\n",
    "Wm=6.25;      % Carga distribuida rotura, kN/m"
   ]
  },
  {
   "cell_type": "markdown",
   "id": "778d0fca",
   "metadata": {},
   "source": [
    "Se crean matrices que almacenarán los resultados intermedios del algoritmo."
   ]
  },
  {
   "cell_type": "code",
   "execution_count": 4,
   "id": "5fd13c9a",
   "metadata": {},
   "outputs": [
    {
     "name": "stdout",
     "output_type": "stream",
     "text": [
      "\n"
     ]
    }
   ],
   "source": [
    "Poblacion=zeros(Mu,15);\n",
    "Vv=zeros(13,max([size(Vfc,2),size(VH,2),size(VB,2),size(Vn,2),size(VsE,2)]));\n",
    "Costos=zeros(Mu,1);\n",
    "Solucion=zeros(1,15); \n",
    "Cmin=zeros(GenMax,1);"
   ]
  },
  {
   "cell_type": "markdown",
   "id": "978427b0",
   "metadata": {},
   "source": [
    "## Tamaño del espacio de soluciones"
   ]
  },
  {
   "cell_type": "markdown",
   "id": "02f6b734",
   "metadata": {},
   "source": [
    "Se determina el tamaño del espacio de soluciones en función de la cardinalidad de las variables de decisión de nuestro problema. "
   ]
  },
  {
   "cell_type": "code",
   "execution_count": 5,
   "id": "3dca6619",
   "metadata": {},
   "outputs": [
    {
     "name": "stdout",
     "output_type": "stream",
     "text": [
      "\n",
      "2.097844e+13 posibles diseños de vigas.\n",
      "\n"
     ]
    }
   ],
   "source": [
    "EspacioSoluciones = size(Vfc,2)*size(VH,2)*size(VB,2)*size(Vn,2)^3*...\n",
    "    size(Vfi,2)^3*size(VnE,2)*size(VfiE,2)*size(VsE,2);\n",
    "    \n",
    "fprintf('\\n')\n",
    "fprintf('%s posibles diseños de vigas.\\n', EspacioSoluciones)\n",
    "fprintf('')"
   ]
  },
  {
   "cell_type": "markdown",
   "id": "79777783",
   "metadata": {},
   "source": [
    "## Funciones del algoritmo"
   ]
  },
  {
   "cell_type": "markdown",
   "id": "352a1ebc",
   "metadata": {},
   "source": [
    "La siguiente función es el bloque de comprobaciones de nuestro algoritmo. Determina si una viga propuesta es una solución factible. Las comprobaciones se basan en los especificado por las Normas Técnicas Complementarias para el Reglamento de Construcción de la Ciudad de México. "
   ]
  },
  {
   "cell_type": "code",
   "execution_count": 6,
   "id": "0e659597",
   "metadata": {},
   "outputs": [
    {
     "name": "stdout",
     "output_type": "stream",
     "text": [
      "Created file 'C:\\Users\\fable\\Documents\\Jupyter Notebook\\OptimizacionVigaEE\\ComprobacionesAG.m'.\n"
     ]
    }
   ],
   "source": [
    "%%file ComprobacionesAG.m\n",
    "\n",
    "function [Check,Le,B,H,fc,d,Asc,As1,As2,Av,sEApoyo,sECentro] = ComprobacionesAG(Viga,L,rec,BApoyo,Wm,w)\n",
    "% Esta función determina la validez de la viga y define la longitud \n",
    "% donde se colocarán los estribos en el apoyo\n",
    "\n",
    "% Se llaman los valores de la viga\n",
    "fc=Viga(1,2);\n",
    "H=Viga(1,3);\n",
    "B=Viga(1,4);\n",
    "nc=Viga(1,5);\n",
    "fic=Viga(1,6)*(2.54/800);\n",
    "ns1=Viga(1,7);\n",
    "fis1=Viga(1,8)*(2.54/800);\n",
    "ns2=Viga(1,9);\n",
    "fis2=Viga(1,10)*(2.54/800);\n",
    "nE=Viga(1,11);\n",
    "fiE=Viga(1,12)*(2.54/800);\n",
    "sEApoyo=Viga(1,13);\n",
    "sECentro=Viga(1,14);\n",
    "\n",
    "% Calculos de apoyo\n",
    "fcc=0.85*fc;    % Es f''c, MPa\n",
    "if(fc>28)       % Altura efectiva bloque de compresión, m\n",
    "    beta1=1.05-fc/140;\n",
    "else\n",
    "    beta1=0.85;\n",
    "end\n",
    "if(fc>=40)      % Módulo elasticidad concreto, MPa\n",
    "    Ec=2700*fc^(1/2)+11000;\n",
    "else\n",
    "    Ec=4400*fc^(1/2);\n",
    "end\n",
    "\n",
    "fy=420;     % Esfuerzo de fluencia del acero, MPa\n",
    "Es=200000;  % Módulo de elásticidad del acero, MPa\n",
    "\n",
    "Nu=Es/Ec;   % Relación entre módulos\n",
    "\n",
    "Asc=nc*pi()/4*(fic)^2;      % Área a compresión, m2\n",
    "As1=ns1*pi()/4*(fis1)^2;    % Área a tensión superior, m2\n",
    "As2=ns2*pi()/4*(fis2)^2;    % Área a tensión inferior, m2\n",
    "Av=2*nE*pi()/4*(fiE)^2;     % Área estribos apoyo, m2\n",
    "\n",
    "ro=(As1+As2)/(B*H); % Cuantía a tensión\n",
    "roc=Asc/(B*H); % Cuantía a compresión\n",
    "\n",
    "\n",
    "sepV = 0.04; % Separación entre armaduras verticales, m\n",
    "BApoyo = 0.30; % Ancho de los apoyos, m\n",
    "\n",
    "Yg=(As1*(sepV+fis1/2+fis2/2))/(As1+As2); % Centro de gravedad de las armaduras, m\n",
    "d=H-rec-fiE-As2/2-Yg; % Es d (peralte efectivo), m\n",
    "dc=rec+fiE+fic/2; % Es d', m\n",
    "Le=0; \n",
    "Check=1;\n",
    "\n",
    "% Relación geométrica\n",
    "if(H/B>6)\n",
    "    Check=1;\n",
    "    return\n",
    "end\n",
    "\n",
    "% Separación entre refuerzos longitudinales\n",
    "if((B-2*rec-2*fiE-nc*fic)/(nc-1)<0.04)\n",
    "    Check=2;\n",
    "    return\n",
    "end\n",
    "\n",
    "if((B-2*rec-2*fiE-ns1*fis1)/(ns1-1)<0.04)\n",
    "    Check=3;\n",
    "    return\n",
    "end\n",
    "\n",
    "if((B-2*rec-2*fiE-ns2*fis2)/(ns2-1)<0.04)\n",
    "    Check=4;\n",
    "    return\n",
    "end\n",
    "\n",
    "% Revisión flexión\n",
    "a=(As1+As2-Asc)*fy/(fcc*B); % Profundidad bloque de compresión\n",
    "Mflex=1.5*Wm*L^2/8+1.3*(25*H*B)*L^2/8;\n",
    "\n",
    "% Acero a tensión mínimo\n",
    "if(As1+As2<(0.22*(fc*10^3)^(1/2)*B*d/(fy*10^3)))\n",
    "    Check=5;\n",
    "    return\n",
    "end\n",
    "\n",
    "% Acero máximo a tensión\n",
    "if(As1+As2>0.90*(600*beta1/(600+fy)*fcc*B*d/(fy)+Asc))\n",
    "    Check=6;\n",
    "    return\n",
    "end\n",
    "\n",
    "% Fluencia del acero a compresión\n",
    "if(As1+As2-Asc<600*beta1*fcc*B*dc/((600-fy)*fy))\n",
    "    Check=7;\n",
    "    return\n",
    "end\n",
    "\n",
    "% Momento de rotura\n",
    "if(Mflex>0.90*((As1+As2-Asc)*fy*(d-a/2)+Asc*fy*(d-dc))*10^3)\n",
    "    Check=8;\n",
    "    return\n",
    "end\n",
    "\n",
    "% Revisión cortante\n",
    "Vu=1.5*Wm*L/2-1.5*Wm*(BApoyo/2+d)+1.3*(25*B*H)*L/2-1.3*(25*B*H)*(BApoyo/2+d);\n",
    "if(ro<0.015)\n",
    "    Vcr=0.75*(0.2+20*ro)*0.3*(fc*10^3)^(1/2)*B*d;\n",
    "else\n",
    "    Vcr=0.75*0.16*(fc*10^3)^(1/2)*B*d;\n",
    "end\n",
    "VsR=0.75*Av*fy*(10^3)*d/sEApoyo;\n",
    "\n",
    "% Vcr máximo\n",
    "if(Vcr>0.75*(0.47)*(fc*10^3)^(1/2)*B*d)\n",
    "    Check=9;\n",
    "    return\n",
    "end\n",
    "\n",
    "% Vu máximo\n",
    "if(Vu>0.75*(0.80)*(fc*10^3)^(1/2)*B*d)\n",
    "    Check=10;\n",
    "    return\n",
    "end\n",
    "\n",
    "% Separaciones máximas estribos\n",
    "if(Vu>0.75*(0.47)*(fc*10^3)^(1/2)*B*d)\n",
    "    if(sEApoyo>0.25*d)\n",
    "        Check=11;\n",
    "        return\n",
    "    end\n",
    "else\n",
    "    if(Vu>Vcr)\n",
    "        if(sEApoyo>0.50*d)\n",
    "            Check=12;\n",
    "            return\n",
    "        end\n",
    "    end\n",
    "end\n",
    "\n",
    "% Resistencia a cortante\n",
    "if(Vcr+VsR<Vu)\n",
    "    Check=13;\n",
    "    return\n",
    "end\n",
    "\n",
    "% Se define cambio de separación de estribos\n",
    "VsRc=0.75*Av*fy*(10^3)*d/sECentro/nE;\n",
    "Le=(1.5*Wm*L/2+1.3*25*B*H*L/2-Vcr-VsRc)/(1.5*Wm+1.3*25*B*H);\n",
    "\n",
    "% Comprobaciones de deflexión\n",
    "AFN=B/2;\n",
    "BFN=Asc*(Nu-1)+(As1+As2)*Nu;\n",
    "CFN=-Asc*(Nu-1)*dc-(As1+As2)*Nu*d;\n",
    "FN=(-BFN+(BFN^2-4*AFN*CFN)^(1/2))/(2*AFN);\n",
    "\n",
    "Iag=B*FN^3/12+B*FN^3/4+(Nu-1)*Asc*(FN-dc)^2+Nu*(As1+As2)*(FN-d)^2;\n",
    "\n",
    "% Deflexión elástica\n",
    "Delas=5*w*L^4/(384*Ec*10^3*Iag);\n",
    "\n",
    "% Deflexión diferida\n",
    "Ddifer=2/(1+50*roc)*Delas;\n",
    "\n",
    "% Deflexión total\n",
    "if(Delas+Ddifer>L/240)\n",
    "    Check=14;\n",
    "    return\n",
    "end\n",
    "\n",
    "% Comprobaciones de agrietamiento\n",
    "fsMax=40000;\n",
    "fsAcero=(w*L^2/8)*(d-FN)*Nu/Iag;\n",
    "df=rec+fiE+fis2/2;\n",
    "Afis=B*(Yg+df)*2/((As1+As2)/min(As1/ns1,As2/ns2));\n",
    "h1=d-FN;\n",
    "h2=H-FN;\n",
    "\n",
    "if(fsMax<fsAcero*(df*Afis)^(1/3)*h2/h1)\n",
    "    Check=15;\n",
    "    return\n",
    "end\n",
    "\n",
    "Check=0;\n",
    "\n",
    "% Fin de la función\n",
    "end"
   ]
  },
  {
   "cell_type": "markdown",
   "id": "fbf8cd73",
   "metadata": {},
   "source": [
    "Función que determina el coste de las vigas. Para estimar el coste de las soluciones solo se toman en cuenta los precios unitarios de la cimbra, el acero y el concreto. Los precios son estimados y no se han determinado por algún analisis de costos. "
   ]
  },
  {
   "cell_type": "code",
   "execution_count": 7,
   "id": "786edc22",
   "metadata": {},
   "outputs": [
    {
     "name": "stdout",
     "output_type": "stream",
     "text": [
      "Created file 'C:\\Users\\fable\\Documents\\Jupyter Notebook\\OptimizacionVigaEE\\CostoViga.m'.\n"
     ]
    }
   ],
   "source": [
    "%%file CostoViga.m\n",
    "\n",
    "function [Costo]=CostoViga(L,Le,rec,BApoyo,B,H,fc,d,Asc,As1,As2,Av,sEApoyo,sECentro,Vfc)\n",
    "% Esta función determina el costo de la viga actual\n",
    "\n",
    "% Costos de los materiales\n",
    "Cfc = [1103.2, 1253.7, 1354.8, 1420.3, 1502.5, 1570.1, 1668.2, 1722.9, 1777.6, 1832.3]; % MXN/m3\n",
    "Cacero = 19.64; % MXN/kg\n",
    "Ccimbra = 220.0; % MXN/m2\n",
    "\n",
    "% Costo del concreto\n",
    "Concreto=(L+BApoyo)*B*H*Cfc(1,find(Vfc==fc));\n",
    "\n",
    "% Costo del acero longitudinal\n",
    "Longitudinal=(L+BApoyo+H)*(Asc+As1+As2)*Cacero*7860;\n",
    "\n",
    "% Costo estribos\n",
    "if(Le-BApoyo/2-d<0)\n",
    "    Lc=L-2*(sEApoyo+BApoyo/2+d);\n",
    "    EstribosApoyo=2*(1+1)*(B-2*rec+H-2*rec)*Av*Cacero*7860;\n",
    "    EstribosCentro=(round(Lc/sECentro)-1)*(B-2*rec+H-2*rec)*Av*Cacero*7860;\n",
    "else\n",
    "    Lc=L-(2*round((Le-BApoyo/2-d)/sEApoyo)*sEApoyo+d+BApoyo/2);\n",
    "    EstribosApoyo=2*(round((Le-BApoyo/2-d)/sEApoyo)+1)*(B-2*rec+H-2*rec)*Av*Cacero*7860;\n",
    "    EstribosCentro=(round(Lc/sECentro)-1)*(B-2*rec+H-2*rec)*Av*Cacero*7860;\n",
    "end\n",
    "\n",
    "% Costo cimbra\n",
    "Cimbra=(L+BApoyo)*(B+2*H)*Ccimbra;\n",
    "\n",
    "% Costo total\n",
    "Costo=Concreto+Longitudinal+EstribosApoyo+EstribosCentro+Cimbra;\n",
    "end"
   ]
  },
  {
   "cell_type": "markdown",
   "id": "599808cd",
   "metadata": {},
   "source": [
    "Función que muta el valor de una variable de decisión hacia una posición en la vecindad inmediata del valor actual. Es un movimiento de mutación de corto alcance. "
   ]
  },
  {
   "cell_type": "code",
   "execution_count": 8,
   "id": "8b3a4e33",
   "metadata": {},
   "outputs": [
    {
     "name": "stdout",
     "output_type": "stream",
     "text": [
      "Created file 'C:\\Users\\fable\\Documents\\Jupyter Notebook\\OptimizacionVigaEE\\EEMutacion.m'.\n"
     ]
    }
   ],
   "source": [
    "%%file EEMutacion.m\n",
    "\n",
    "function [Mut] = EEMutacion(Solucion,Vv,i)\n",
    "% Función que define la variable a mutar y cómo hacerlo\n",
    "Xx=Vv(i,1:find(Vv(i,:)==0,1)-1); % Valores de la variable\n",
    "\n",
    "if(size(Xx,2)==0)\n",
    "    Xx=Vv(i,:);\n",
    "end\n",
    "\n",
    "p=find(Solucion(1,i+1)==Xx);    % Posición en el vector\n",
    "m=randi(2);                     % Dirección del cambio\n",
    "\n",
    "if(m==1)\n",
    "    if(p~=1)\n",
    "        Mut=Xx(1,p-1);  % Nuevo valor\n",
    "    else\n",
    "        Mut=Xx(1,p);    % No se altera el valor\n",
    "    end\n",
    "else\n",
    "    if(p~=size(Xx,2))\n",
    "        Mut=Xx(1,p+1);  % Nuevo valor\n",
    "    else\n",
    "        Mut=Xx(1,p);    % No se altera el valor\n",
    "    end\n",
    "end\n",
    "end"
   ]
  },
  {
   "cell_type": "markdown",
   "id": "f14dc4ac",
   "metadata": {},
   "source": [
    "Función que muta el valor de una variable de decisión hacia un valor aleatorio en el alfabeto de la variable de decisión. Este operador permite que el valor actual mute hacia cualquier otro valor existente en el intervalo de la variable de decisión."
   ]
  },
  {
   "cell_type": "code",
   "execution_count": 9,
   "id": "5c83ad21",
   "metadata": {},
   "outputs": [
    {
     "name": "stdout",
     "output_type": "stream",
     "text": [
      "Created file 'C:\\Users\\fable\\Documents\\Jupyter Notebook\\OptimizacionVigaEE\\EEMutacion2.m'.\n"
     ]
    }
   ],
   "source": [
    "%%file EEMutacion2.m\n",
    "function [Mut] = EEMutacion2(Vv,i)\n",
    "% Función que define la variable a mutar y cómo hacerlo\n",
    "Xx=Vv(i,:);     % Valores de la variable\n",
    "\n",
    "if(size(find(Xx==0,1),2)==0)\n",
    "    Mut=Xx(1,randi(size(Xx,2)));   % Mutación aleatoria\n",
    "else\n",
    "    Mut=Xx(1,randi(find(Xx==0,1)-1));   % Mutación aleatoria\n",
    "end"
   ]
  },
  {
   "cell_type": "markdown",
   "id": "af630fee",
   "metadata": {},
   "source": [
    "## Algoritmo de Estrategias Evolutivas"
   ]
  },
  {
   "cell_type": "markdown",
   "id": "051a4822",
   "metadata": {},
   "source": [
    "Se comienza agrupando las variables de decisión en una matriz. Este arreglo facilitará trabajar con los operadores mutación. "
   ]
  },
  {
   "cell_type": "code",
   "execution_count": 10,
   "id": "39fda67c",
   "metadata": {},
   "outputs": [
    {
     "name": "stdout",
     "output_type": "stream",
     "text": [
      "\n"
     ]
    }
   ],
   "source": [
    "Vv(1,1:size(Vfc,2))=Vfc;\n",
    "Vv(2,1:size(VH,2))=VH;\n",
    "Vv(3,1:size(VB,2))=VB;\n",
    "Vv(4,1:size(Vn,2))=Vn;\n",
    "Vv(5,1:size(Vfi,2))=Vfi;\n",
    "Vv(6,1:size(Vn,2))=Vn;\n",
    "Vv(7,1:size(Vfi,2))=Vfi;\n",
    "Vv(8,1:size(Vn,2))=Vn;\n",
    "Vv(9,1:size(Vfi,2))=Vfi;\n",
    "Vv(10,1:size(VnE,2))=VnE;\n",
    "Vv(11,1:size(VfiE,2))=VfiE;\n",
    "Vv(12,1:size(VsE,2))=VsE;\n",
    "Vv(13,1:size(VsE,2))=VsE;"
   ]
  },
  {
   "cell_type": "markdown",
   "id": "7ca34d69",
   "metadata": {},
   "source": [
    "Se genera la población inicial del algoritmo de manera aleatoria. Los valores de las variables de decisión que componen a esta población inicial son escogidos siguiendo una distribución de probabilidad uniforme."
   ]
  },
  {
   "cell_type": "code",
   "execution_count": 11,
   "id": "728bfae6",
   "metadata": {},
   "outputs": [
    {
     "name": "stdout",
     "output_type": "stream",
     "text": [
      "\n"
     ]
    }
   ],
   "source": [
    "t=clock;\n",
    "rng(t(1,6))\n",
    "i=1; % Para iniciar el while\n",
    "while i<=Mu\n",
    "    Poblacion(i,1)=0;\n",
    "    Poblacion(i,2)=Vv(1,randi(size(Vfc,2)));\n",
    "    Poblacion(i,3)=Vv(2,randi(size(VH,2)));\n",
    "    Poblacion(i,4)=Vv(3,randi(size(VB,2)));\n",
    "    Poblacion(i,5)=Vv(4,randi(size(Vn,2)));\n",
    "    Poblacion(i,6)=Vv(5,randi(size(Vfi,2)));\n",
    "    Poblacion(i,7)=Vv(4,randi(size(Vn,2)));\n",
    "    Poblacion(i,8)=Vv(5,randi(size(Vfi,2)));\n",
    "    Poblacion(i,9)=Vv(4,randi(size(Vn,2)));\n",
    "    Poblacion(i,10)=Vv(5,randi(size(Vfi,2)));\n",
    "    Poblacion(i,11)=Vv(10,randi(size(VnE,2)));\n",
    "    Poblacion(i,12)=Vv(11,randi(size(VfiE,2)));\n",
    "    Poblacion(i,13)=Vv(12,randi(size(VsE,2)));\n",
    "    Poblacion(i,14)=Vv(12,randi(size(VsE,2)));\n",
    "    \n",
    "    % Comprobaciones de la solución\n",
    "    [Check,Le,B,H,fc,d,Asc,As1,As2,Av,sEApoyo,sECentro]=...\n",
    "        ComprobacionesAG(Poblacion(i,1:14),L,rec,BApoyo,Wm,w);\n",
    "    Poblacion(i,1)=Check;\n",
    "    Poblacion(i,15)=Le;\n",
    "  \n",
    "    if(Poblacion(i,1)==0)\n",
    "        [Costo]=CostoViga(L,Le,rec,BApoyo,B,H,fc,d,Asc,As1,As2,Av,sEApoyo,sECentro,Vfc);\n",
    "        Costos(i,1)=Costo;\n",
    "        i=i+1;\n",
    "    end\n",
    "end"
   ]
  },
  {
   "cell_type": "markdown",
   "id": "ea93671c",
   "metadata": {},
   "source": [
    "Se determina e imprime el costo de la solución de mayor calidad en nuestra población inicial-"
   ]
  },
  {
   "cell_type": "code",
   "execution_count": 12,
   "id": "b4787e4e",
   "metadata": {},
   "outputs": [
    {
     "name": "stdout",
     "output_type": "stream",
     "text": [
      "\n",
      "CostoMin =\n",
      "\n",
      "   1.7749e+05\n",
      "\n",
      "\n"
     ]
    }
   ],
   "source": [
    "CostoMin=min(Costos(:,1))\n",
    "Cmin(1,1)=CostoMin;"
   ]
  },
  {
   "cell_type": "markdown",
   "id": "d3757637",
   "metadata": {},
   "source": [
    "Se genera las subsecuentes generaciones por medio de los operadores selección, cruce y mutación. Este proceso se repite un número GenMax de veces. "
   ]
  },
  {
   "cell_type": "code",
   "execution_count": 13,
   "id": "43c86d21",
   "metadata": {},
   "outputs": [
    {
     "name": "stdout",
     "output_type": "stream",
     "text": [
      "\n"
     ]
    }
   ],
   "source": [
    "% Repeticion de las generaciones\n",
    "Generacion=1; % Para iniciar el while\n",
    "while Generacion<GenMax\n",
    "    % Creación de una nueva solución\n",
    "    for i=1 : size(Vv,1)\n",
    "        Solucion(1,i+1)=Poblacion(randi(Mu),i+1);\n",
    "        \n",
    "        if(rand()<=PM)\n",
    "            [Mut]=EEMutacion(Solucion,Vv,i);\n",
    "            Solucion(1,i+1)=Mut;\n",
    "        else\n",
    "            if(rand()<=1-PM)\n",
    "                [Mut]=EEMutacion2(Vv,i);\n",
    "                Solucion(1,i+1)=Mut;\n",
    "            end\n",
    "        end\n",
    "    end\n",
    "    % Se revisa la validez de la viga\n",
    "    [Check,Le,B,H,fc,d,Asc,As1,As2,Av,sEApoyo,sECentro]=...\n",
    "        ComprobacionesAG(Solucion,L,rec,BApoyo,Wm,w);\n",
    "    Solucion(1,15)=Le;\n",
    "    \n",
    "    if(Check==0)\n",
    "        [Costo]=CostoViga(L,Le,rec,BApoyo,B,H,fc,d,Asc,As1,As2,Av,sEApoyo,sECentro,Vfc);\n",
    "        Generacion=Generacion+1;\n",
    "        \n",
    "        if(max(Costos)>Costo)\n",
    "            j=find(max(Costos)==Costos,1);\n",
    "            Poblacion(j,:)=Solucion;\n",
    "            Costos(j,1)=Costo;\n",
    "        end      \n",
    "        CostoMin=min(Costos(:,1));\n",
    "        Cmin(Generacion,1)=CostoMin;\n",
    "        Solucion=zeros(1,15);\n",
    "    end\n",
    "end"
   ]
  },
  {
   "cell_type": "markdown",
   "id": "8f605bc9",
   "metadata": {},
   "source": [
    "## Resultados"
   ]
  },
  {
   "cell_type": "markdown",
   "id": "6b134193",
   "metadata": {},
   "source": [
    "Se guarda una de las vigas optimizadas encontradas y se imprime el costo de la solución de mayor calidad encontrada. "
   ]
  },
  {
   "cell_type": "code",
   "execution_count": 14,
   "id": "7e59c6e8",
   "metadata": {},
   "outputs": [
    {
     "name": "stdout",
     "output_type": "stream",
     "text": [
      "\n",
      "CostoMin =\n",
      "\n",
      "   4.8020e+04\n",
      "\n",
      "Costo mínimo: 4.801971e+04 MXN\n",
      "\n"
     ]
    }
   ],
   "source": [
    "VigaOptima=Poblacion(1,[2:15]);\n",
    "CostoMin=min(Costos(:,1))\n",
    "fprintf('Costo mínimo: %d MXN\\n',CostoMin)"
   ]
  },
  {
   "cell_type": "markdown",
   "id": "2c8bf719",
   "metadata": {},
   "source": [
    "Por último, se imprimen las características de la viga optimizada. "
   ]
  },
  {
   "cell_type": "code",
   "execution_count": 15,
   "id": "406e0a06",
   "metadata": {},
   "outputs": [
    {
     "name": "stdout",
     "output_type": "stream",
     "text": [
      "Datos de la sección:\n",
      "Resistencia a compresión (fc): 70 MPa\n",
      "Canto de la sección (H): 2.3 m\n",
      "Ancho de la sección (B): 0.4 m\n",
      "\n",
      "Datos armado a compresión:\n",
      "Número varillas a compresión (nc): 2 varillas\n",
      "Diámetro varillas a compresión (fic): 2.5 in/8 \n",
      "\n",
      "Datos armado a tensión superior:\n",
      "Número varillas a tensión capa superior (ns1): 2 varillas\n",
      "Diámetro varillas a tensión capa superior (fis1): 8.0 in/8 \n",
      "\n",
      "Datos armado a tensión inferior:\n",
      "Número varillas a tensión capa inferior (ns2): 4 varillas\n",
      "Diámetro varillas a tensión capa inferior (fis2): 12.0 in/8 \n",
      "\n",
      "Datos sobre estribos:\n",
      "Número de estribos (nE): 1 estribo\n",
      "Diámetro estribos (fiE): 2.5 in/8 \n",
      "Separación estribos centro (sE): 0.3 m \n",
      "\n"
     ]
    }
   ],
   "source": [
    "fprintf('Datos de la sección:\\n')\n",
    "fprintf('Resistencia a compresión (fc): %d MPa\\n',VigaOptima(1,1))\n",
    "fprintf('Canto de la sección (H): %1.1f m\\n',VigaOptima(1,2))\n",
    "fprintf('Ancho de la sección (B): %1.1f m\\n',VigaOptima(1,3))\n",
    "fprintf('\\n')\n",
    "\n",
    "fprintf('Datos armado a compresión:\\n')\n",
    "fprintf('Número varillas a compresión (nc): %i varillas\\n',VigaOptima(1,4))\n",
    "fprintf('Diámetro varillas a compresión (fic): %2.1f in/8 \\n',VigaOptima(1,5))\n",
    "fprintf('\\n')\n",
    "\n",
    "fprintf('Datos armado a tensión superior:\\n')\n",
    "fprintf('Número varillas a tensión capa superior (ns1): %d varillas\\n',VigaOptima(1,6))\n",
    "fprintf('Diámetro varillas a tensión capa superior (fis1): %2.1f in/8 \\n',VigaOptima(1,7))\n",
    "fprintf('\\n')\n",
    "\n",
    "fprintf('Datos armado a tensión inferior:\\n')\n",
    "fprintf('Número varillas a tensión capa inferior (ns2): %d varillas\\n',VigaOptima(1,8))\n",
    "fprintf('Diámetro varillas a tensión capa inferior (fis2): %2.1f in/8 \\n',VigaOptima(1,9))\n",
    "fprintf('\\n')\n",
    "\n",
    "fprintf('Datos sobre estribos:\\n')\n",
    "fprintf('Número de estribos (nE): %d estribo\\n',VigaOptima(1,10))\n",
    "fprintf('Diámetro estribos (fiE): %2.1f in/8 \\n',VigaOptima(1,11))\n",
    "fprintf('Separación estribos centro (sE): %0.1f m \\n',VigaOptima(1,13))"
   ]
  },
  {
   "cell_type": "markdown",
   "id": "09d51233",
   "metadata": {},
   "source": [
    "## Referencias"
   ]
  },
  {
   "cell_type": "markdown",
   "id": "4f0c697e",
   "metadata": {},
   "source": [
    "[1] Coello, C. C., Hernández, F. S. & Farrera, F. A. Optimal design of reinforced concrete beams using genetic algorithms. Expert Syst. Appl. 12, 101–108 (1997).\n",
    "\n",
    "[2] Gobierno de la Ciudad de México. Normas Técnicas Complementarias. (2017).\n",
    "\n",
    "[3] Rechenberg, I. Evolutionsstrategie: Optimierung techischer Systeme nach Prinzipien der biologischen Evolution. Frommann Holzboog Verlag, Stuttgart. (1973).\n",
    "\n",
    "[4] Bäck, T., Hoffmeister, F. & Schwefel, H. A survey of evolution strategies. (1991)."
   ]
  }
 ],
 "metadata": {
  "kernelspec": {
   "display_name": "Matlab",
   "language": "matlab",
   "name": "matlab"
  },
  "language_info": {
   "codemirror_mode": "octave",
   "file_extension": ".m",
   "help_links": [
    {
     "text": "MetaKernel Magics",
     "url": "https://metakernel.readthedocs.io/en/latest/source/README.html"
    }
   ],
   "mimetype": "text/x-octave",
   "name": "matlab",
   "version": "0.16.11"
  },
  "toc": {
   "base_numbering": 1,
   "nav_menu": {},
   "number_sections": true,
   "sideBar": true,
   "skip_h1_title": false,
   "title_cell": "Table of Contents",
   "title_sidebar": "Contents",
   "toc_cell": false,
   "toc_position": {},
   "toc_section_display": true,
   "toc_window_display": false
  }
 },
 "nbformat": 4,
 "nbformat_minor": 5
}
